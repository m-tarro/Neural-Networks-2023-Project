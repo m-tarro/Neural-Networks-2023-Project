{
 "cells": [
  {
   "cell_type": "code",
   "execution_count": 1,
   "id": "d1179ed6",
   "metadata": {
    "_cell_guid": "b1076dfc-b9ad-4769-8c92-a6c4dae69d19",
    "_uuid": "8f2839f25d086af736a60e9eeb907d3b93b6e0e5",
    "execution": {
     "iopub.execute_input": "2023-04-23T21:15:23.669100Z",
     "iopub.status.busy": "2023-04-23T21:15:23.668556Z",
     "iopub.status.idle": "2023-04-23T21:15:32.564011Z",
     "shell.execute_reply": "2023-04-23T21:15:32.561850Z"
    },
    "papermill": {
     "duration": 8.905351,
     "end_time": "2023-04-23T21:15:32.567156",
     "exception": false,
     "start_time": "2023-04-23T21:15:23.661805",
     "status": "completed"
    },
    "tags": []
   },
   "outputs": [
    {
     "name": "stdout",
     "output_type": "stream",
     "text": [
      "Tensorflow version 2.11.0\n"
     ]
    }
   ],
   "source": [
    "import math, re, os\n",
    "import numpy as np\n",
    "import tensorflow as tf\n",
    "import warnings \n",
    "warnings.filterwarnings(\"ignore\")\n",
    "from kaggle_datasets import KaggleDatasets\n",
    "\n",
    "print(\"Tensorflow version \" + tf.__version__)"
   ]
  },
  {
   "cell_type": "code",
   "execution_count": 2,
   "id": "335281c3",
   "metadata": {
    "execution": {
     "iopub.execute_input": "2023-04-23T21:15:32.577640Z",
     "iopub.status.busy": "2023-04-23T21:15:32.576654Z",
     "iopub.status.idle": "2023-04-23T21:15:32.594382Z",
     "shell.execute_reply": "2023-04-23T21:15:32.592796Z"
    },
    "papermill": {
     "duration": 0.026136,
     "end_time": "2023-04-23T21:15:32.597119",
     "exception": false,
     "start_time": "2023-04-23T21:15:32.570983",
     "status": "completed"
    },
    "tags": []
   },
   "outputs": [
    {
     "name": "stdout",
     "output_type": "stream",
     "text": [
      "REPLICAS:  1\n"
     ]
    }
   ],
   "source": [
    "try:\n",
    "    tpu = tf.distribute.cluster_resolver.TPUClusterResolver() \n",
    "    print('Running on TPU ', tpu.master())\n",
    "except ValueError:\n",
    "    tpu = None\n",
    "\n",
    "if tpu:\n",
    "    tf.config.experimental_connect_to_cluster(tpu)\n",
    "    tf.tpu.experimental.initialize_tpu_system(tpu)\n",
    "    strategy = tf.distribute.experimental.TPUStrategy(tpu)\n",
    "else:\n",
    "    strategy = tf.distribute.get_strategy() \n",
    "\n",
    "print(\"REPLICAS: \", strategy.num_replicas_in_sync)"
   ]
  },
  {
   "cell_type": "code",
   "execution_count": 3,
   "id": "fbd05f62",
   "metadata": {
    "execution": {
     "iopub.execute_input": "2023-04-23T21:15:32.607192Z",
     "iopub.status.busy": "2023-04-23T21:15:32.606394Z",
     "iopub.status.idle": "2023-04-23T21:15:32.633361Z",
     "shell.execute_reply": "2023-04-23T21:15:32.632256Z"
    },
    "papermill": {
     "duration": 0.035507,
     "end_time": "2023-04-23T21:15:32.636241",
     "exception": false,
     "start_time": "2023-04-23T21:15:32.600734",
     "status": "completed"
    },
    "tags": []
   },
   "outputs": [],
   "source": [
    "class DataPipeline:\n",
    "    \n",
    "    def __init__(self, image_size=512, batch_size=16):\n",
    "        self.GCS_DS_PATH = KaggleDatasets().get_gcs_path('tpu-getting-started')\n",
    "        assert image_size in (192,224,331,512)\n",
    "        self.IMAGE_SIZE = [image_size, image_size]\n",
    "        self.BATCH_SIZE = batch_size\n",
    "        self.GCS_PATH = self.GCS_DS_PATH + f'/tfrecords-jpeg-{image_size}x{image_size}'\n",
    "        self.AUTO = tf.data.experimental.AUTOTUNE\n",
    "        self.TRAINING_FILENAMES = tf.io.gfile.glob(self.GCS_PATH + '/train/*.tfrec')\n",
    "        self.VALIDATION_FILENAMES = tf.io.gfile.glob(self.GCS_PATH + '/val/*.tfrec')\n",
    "        self.TEST_FILENAMES = tf.io.gfile.glob(self.GCS_PATH + '/test/*.tfrec') \n",
    "        \n",
    "        self.CLASSES = ['pink primrose',    'hard-leaved pocket orchid', 'canterbury bells', 'sweet pea',     'wild geranium',     'tiger lily',           'moon orchid',              'bird of paradise', 'monkshood',        'globe thistle',         # 00 - 09\n",
    "                        'snapdragon',       \"colt's foot\",               'king protea',      'spear thistle', 'yellow iris',       'globe-flower',         'purple coneflower',        'peruvian lily',    'balloon flower',   'giant white arum lily', # 10 - 19\n",
    "                        'fire lily',        'pincushion flower',         'fritillary',       'red ginger',    'grape hyacinth',    'corn poppy',           'prince of wales feathers', 'stemless gentian', 'artichoke',        'sweet william',         # 20 - 29\n",
    "                        'carnation',        'garden phlox',              'love in the mist', 'cosmos',        'alpine sea holly',  'ruby-lipped cattleya', 'cape flower',              'great masterwort', 'siam tulip',       'lenten rose',           # 30 - 39\n",
    "                        'barberton daisy',  'daffodil',                  'sword lily',       'poinsettia',    'bolero deep blue',  'wallflower',           'marigold',                 'buttercup',        'daisy',            'common dandelion',      # 40 - 49\n",
    "                        'petunia',          'wild pansy',                'primula',          'sunflower',     'lilac hibiscus',    'bishop of llandaff',   'gaura',                    'geranium',         'orange dahlia',    'pink-yellow dahlia',    # 50 - 59\n",
    "                        'cautleya spicata', 'japanese anemone',          'black-eyed susan', 'silverbush',    'californian poppy', 'osteospermum',         'spring crocus',            'iris',             'windflower',       'tree poppy',            # 60 - 69\n",
    "                        'gazania',          'azalea',                    'water lily',       'rose',          'thorn apple',       'morning glory',        'passion flower',           'lotus',            'toad lily',        'anthurium',             # 70 - 79\n",
    "                        'frangipani',       'clematis',                  'hibiscus',         'columbine',     'desert-rose',       'tree mallow',          'magnolia',                 'cyclamen ',        'watercress',       'canna lily',            # 80 - 89\n",
    "                        'hippeastrum ',     'bee balm',                  'pink quill',       'foxglove',      'bougainvillea',     'camellia',             'mallow',                   'mexican petunia',  'bromelia',         'blanket flower',        # 90 - 99\n",
    "                        'trumpet creeper',  'blackberry lily',           'common tulip',     'wild rose']                                                                                                                                               # 100 - 103\n",
    "    \n",
    "    #processing the images into floats from 0,1 and reshaping to the size required for a TPU.\n",
    "    def decode_image(self, image_data):\n",
    "        image = tf.image.decode_jpeg(image_data, channels=3)\n",
    "        image = tf.cast(image, tf.float32) / 255.0  \n",
    "        image = tf.reshape(image, [self.IMAGE_SIZE, 3]) \n",
    "        return image\n",
    "\n",
    "    #reading the labels for my images and returns a dataset with the image and label in a pair.\n",
    "    def read_labeled_tfrecord(self, example):\n",
    "        LABELED_TFREC_FORMAT = {\n",
    "            \"image\": tf.io.FixedLenFeature([], tf.string),\n",
    "            \"class\": tf.io.FixedLenFeature([], tf.int64),  \n",
    "        }\n",
    "        example = tf.io.parse_single_example(example, LABELED_TFREC_FORMAT)\n",
    "        image = self.decode_image(example['image'])\n",
    "        label = tf.cast(example['class'], tf.int32)\n",
    "        return image, label \n",
    "    \n",
    "    #reading the unlabeled data to use for testing.\n",
    "    def read_unlabeled_tfrecord(self, example):\n",
    "        UNLABELED_TFREC_FORMAT = {\n",
    "            \"image\": tf.io.FixedLenFeature([], tf.string), \n",
    "            \"id\": tf.io.FixedLenFeature([], tf.string),\n",
    "        }\n",
    "        example = tf.io.parse_single_example(example, UNLABELED_TFREC_FORMAT)\n",
    "        image = self.decode_image(example['image'])\n",
    "        idnum = example['id']\n",
    "        return image, idnum \n",
    "\n",
    "    #Reading multiple files at once to improve performance. \n",
    "    #Ordering data order decreases the speed and as the data will be shuffled later on anyways. \n",
    "    def load_dataset(self, filenames, labeled=True, ordered=False):\n",
    "\n",
    "        ignore_order = tf.data.Options()\n",
    "        if not ordered:\n",
    "            ignore_order.experimental_deterministic = False # disabling order\n",
    "\n",
    "        dataset = tf.data.TFRecordDataset(filenames, num_parallel_reads=self.AUTO)\n",
    "        dataset = dataset.with_options(ignore_order) \n",
    "        dataset = dataset.map(self.read_labeled_tfrecord if labeled else self.read_unlabeled_tfrecord, num_parallel_calls=self.AUTO)\n",
    "        # returns a dataset of (image, label) pairs if labeled=True or (image, id) pairs if labeled=False\n",
    "        return dataset\n",
    "    \n",
    "    def data_augment(self, image, label):\n",
    "        #data augmentation to prevent overfitting and to find more patterns.\n",
    "        image = tf.image.random_flip_left_right(image)\n",
    "        image = tf.image.random_flip_up_down(image)\n",
    "        image = tf.image.random_saturation(image, 0, 2)\n",
    "        return image, label   \n",
    "\n",
    "    def get_training_dataset(self, ordered=False):\n",
    "        dataset = self.load_dataset(self.TRAINING_FILENAMES, labeled=True, ordered=ordered)\n",
    "        dataset = dataset.repeat(10)\n",
    "        dataset = dataset.map(self.data_augment, num_parallel_calls=self.AUTO)\n",
    "        dataset = dataset.repeat() # the training dataset must repeat for several epochs\n",
    "        dataset = dataset.shuffle(2048)\n",
    "        dataset = dataset.batch(self.BATCH_SIZE)\n",
    "        dataset = dataset.prefetch(self.AUTO) # get next batch while training \n",
    "        return dataset\n",
    "\n",
    "    def get_validation_dataset(self, ordered=False):\n",
    "        dataset = self.load_dataset(self.VALIDATION_FILENAMES, labeled=True, ordered=ordered)\n",
    "        dataset = dataset.batch(self.BATCH_SIZE)\n",
    "        dataset = dataset.cache()\n",
    "        dataset = dataset.prefetch(self.AUTO)\n",
    "        return dataset\n",
    "\n",
    "    def get_test_dataset(self, ordered=False):\n",
    "        dataset = self.load_dataset(self.TEST_FILENAMES, labeled=False, ordered=ordered)\n",
    "        dataset = dataset.batch(self.BATCH_SIZE)\n",
    "        dataset = dataset.prefetch(self.AUTO)\n",
    "        return dataset"
   ]
  },
  {
   "cell_type": "code",
   "execution_count": 4,
   "id": "c6738d07",
   "metadata": {
    "execution": {
     "iopub.execute_input": "2023-04-23T21:15:32.646603Z",
     "iopub.status.busy": "2023-04-23T21:15:32.645273Z",
     "iopub.status.idle": "2023-04-23T21:15:36.450964Z",
     "shell.execute_reply": "2023-04-23T21:15:36.449661Z"
    },
    "papermill": {
     "duration": 3.814195,
     "end_time": "2023-04-23T21:15:36.454107",
     "exception": false,
     "start_time": "2023-04-23T21:15:32.639912",
     "status": "completed"
    },
    "tags": []
   },
   "outputs": [],
   "source": [
    "from tensorflow.keras.layers import Dense, Activation, Conv2D, MaxPool2D, Dropout, Flatten\n",
    "gu_seed=tf.keras.initializers.GlorotUniform(seed=1)\n",
    "data = DataPipeline()\n",
    "\n",
    "with strategy.scope():\n",
    "    model0 = tf.keras.Sequential()\n",
    "    model0.add(Conv2D(32, kernel_size=(5,5), kernel_initializer=gu_seed, padding='same', activation='relu', input_shape=(512,512,3)))\n",
    "    model0.add(MaxPool2D(pool_size=(3,3)))\n",
    "    model0.add(Dropout(0.25))\n",
    "    \n",
    "    model0.add(Conv2D(64, kernel_size=(5,5), kernel_initializer=gu_seed, padding='same', activation='relu'))\n",
    "    model0.add(MaxPool2D(pool_size=(3,3)))\n",
    "    model0.add(Dropout(0.25))\n",
    "    \n",
    "    model0.add(Conv2D(64, kernel_size=(5,5), kernel_initializer=gu_seed, padding='same', activation='relu'))\n",
    "    model0.add(MaxPool2D(pool_size=(3,3)))\n",
    "    model0.add(Dropout(0.25))\n",
    "    \n",
    "    model0.add(Conv2D(64, kernel_size=(5,5), kernel_initializer=gu_seed, padding='same', activation='relu'))\n",
    "    model0.add(MaxPool2D(pool_size=(3,3)))\n",
    "    model0.add(Dropout(0.25))\n",
    "    \n",
    "    model0.add(Flatten())\n",
    "    model0.add(Dense(len(data.CLASSES), activation='softmax'))"
   ]
  },
  {
   "cell_type": "code",
   "execution_count": 5,
   "id": "02b1ea61",
   "metadata": {
    "execution": {
     "iopub.execute_input": "2023-04-23T21:15:36.465005Z",
     "iopub.status.busy": "2023-04-23T21:15:36.463779Z",
     "iopub.status.idle": "2023-04-23T21:15:36.533505Z",
     "shell.execute_reply": "2023-04-23T21:15:36.531890Z"
    },
    "papermill": {
     "duration": 0.096178,
     "end_time": "2023-04-23T21:15:36.554551",
     "exception": false,
     "start_time": "2023-04-23T21:15:36.458373",
     "status": "completed"
    },
    "tags": []
   },
   "outputs": [
    {
     "name": "stdout",
     "output_type": "stream",
     "text": [
      "Model: \"sequential\"\n",
      "_________________________________________________________________\n",
      " Layer (type)                Output Shape              Param #   \n",
      "=================================================================\n",
      " conv2d (Conv2D)             (None, 512, 512, 32)      2432      \n",
      "                                                                 \n",
      " max_pooling2d (MaxPooling2D  (None, 170, 170, 32)     0         \n",
      " )                                                               \n",
      "                                                                 \n",
      " dropout (Dropout)           (None, 170, 170, 32)      0         \n",
      "                                                                 \n",
      " conv2d_1 (Conv2D)           (None, 170, 170, 64)      51264     \n",
      "                                                                 \n",
      " max_pooling2d_1 (MaxPooling  (None, 56, 56, 64)       0         \n",
      " 2D)                                                             \n",
      "                                                                 \n",
      " dropout_1 (Dropout)         (None, 56, 56, 64)        0         \n",
      "                                                                 \n",
      " conv2d_2 (Conv2D)           (None, 56, 56, 64)        102464    \n",
      "                                                                 \n",
      " max_pooling2d_2 (MaxPooling  (None, 18, 18, 64)       0         \n",
      " 2D)                                                             \n",
      "                                                                 \n",
      " dropout_2 (Dropout)         (None, 18, 18, 64)        0         \n",
      "                                                                 \n",
      " conv2d_3 (Conv2D)           (None, 18, 18, 64)        102464    \n",
      "                                                                 \n",
      " max_pooling2d_3 (MaxPooling  (None, 6, 6, 64)         0         \n",
      " 2D)                                                             \n",
      "                                                                 \n",
      " dropout_3 (Dropout)         (None, 6, 6, 64)          0         \n",
      "                                                                 \n",
      " flatten (Flatten)           (None, 2304)              0         \n",
      "                                                                 \n",
      " dense (Dense)               (None, 104)               239720    \n",
      "                                                                 \n",
      "=================================================================\n",
      "Total params: 498,344\n",
      "Trainable params: 498,344\n",
      "Non-trainable params: 0\n",
      "_________________________________________________________________\n"
     ]
    }
   ],
   "source": [
    "model0.compile(\n",
    "    optimizer='adam',\n",
    "    loss = 'sparse_categorical_crossentropy',\n",
    "    metrics=['sparse_categorical_accuracy'],\n",
    ")\n",
    "\n",
    "model0.summary()"
   ]
  },
  {
   "cell_type": "code",
   "execution_count": 6,
   "id": "618a7fd2",
   "metadata": {
    "execution": {
     "iopub.execute_input": "2023-04-23T21:15:36.569276Z",
     "iopub.status.busy": "2023-04-23T21:15:36.568776Z",
     "iopub.status.idle": "2023-04-23T21:15:36.576423Z",
     "shell.execute_reply": "2023-04-23T21:15:36.575116Z"
    },
    "papermill": {
     "duration": 0.018743,
     "end_time": "2023-04-23T21:15:36.579395",
     "exception": false,
     "start_time": "2023-04-23T21:15:36.560652",
     "status": "completed"
    },
    "tags": []
   },
   "outputs": [],
   "source": [
    "def count_data_items(filenames):\n",
    "    n = [int(re.compile(r\"-([0-9]*)\\.\").search(filename).group(1)) for filename in filenames]\n",
    "    return np.sum(n)\n",
    "\n",
    "NUM_TRAINING_IMAGES = count_data_items(data.TRAINING_FILENAMES)\n",
    "NUM_VALIDATION_IMAGES = count_data_items(data.VALIDATION_FILENAMES)\n",
    "NUM_TEST_IMAGES = count_data_items(data.TEST_FILENAMES)"
   ]
  },
  {
   "cell_type": "code",
   "execution_count": 7,
   "id": "74619fa4",
   "metadata": {
    "execution": {
     "iopub.execute_input": "2023-04-23T21:15:36.594072Z",
     "iopub.status.busy": "2023-04-23T21:15:36.593534Z",
     "iopub.status.idle": "2023-04-23T21:15:36.600236Z",
     "shell.execute_reply": "2023-04-23T21:15:36.598530Z"
    },
    "papermill": {
     "duration": 0.017398,
     "end_time": "2023-04-23T21:15:36.603074",
     "exception": false,
     "start_time": "2023-04-23T21:15:36.585676",
     "status": "completed"
    },
    "tags": []
   },
   "outputs": [],
   "source": [
    "# Define training epochs\n",
    "EPOCHS = 10\n",
    "\n",
    "# ds_train = data.get_training_dataset()\n",
    "# ds_valid = data.get_validation_dataset()\n",
    "# ds_test = data.get_test_dataset()\n",
    "\n",
    "# STEPS_PER_EPOCH = NUM_TRAINING_IMAGES // data.BATCH_SIZE\n",
    "\n",
    "# history = model0.fit(\n",
    "#     ds_train,\n",
    "#     validation_data=ds_valid,\n",
    "#     epochs=EPOCHS,\n",
    "#     steps_per_epoch=STEPS_PER_EPOCH\n",
    "# )"
   ]
  },
  {
   "cell_type": "code",
   "execution_count": null,
   "id": "8e2c4615",
   "metadata": {
    "papermill": {
     "duration": 0.005658,
     "end_time": "2023-04-23T21:15:36.614915",
     "exception": false,
     "start_time": "2023-04-23T21:15:36.609257",
     "status": "completed"
    },
    "tags": []
   },
   "outputs": [],
   "source": []
  }
 ],
 "metadata": {
  "kernelspec": {
   "display_name": "Python 3",
   "language": "python",
   "name": "python3"
  },
  "language_info": {
   "codemirror_mode": {
    "name": "ipython",
    "version": 3
   },
   "file_extension": ".py",
   "mimetype": "text/x-python",
   "name": "python",
   "nbconvert_exporter": "python",
   "pygments_lexer": "ipython3",
   "version": "3.7.12"
  },
  "papermill": {
   "default_parameters": {},
   "duration": 28.370509,
   "end_time": "2023-04-23T21:15:39.546721",
   "environment_variables": {},
   "exception": null,
   "input_path": "__notebook__.ipynb",
   "output_path": "__notebook__.ipynb",
   "parameters": {},
   "start_time": "2023-04-23T21:15:11.176212",
   "version": "2.4.0"
  }
 },
 "nbformat": 4,
 "nbformat_minor": 5
}
