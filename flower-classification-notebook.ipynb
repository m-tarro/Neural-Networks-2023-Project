{
 "cells": [
  {
   "cell_type": "markdown",
   "id": "17cb9151",
   "metadata": {
    "papermill": {
     "duration": 0.005889,
     "end_time": "2023-04-24T13:00:46.044628",
     "exception": false,
     "start_time": "2023-04-24T13:00:46.038739",
     "status": "completed"
    },
    "tags": []
   },
   "source": [
    "## Necessary imports"
   ]
  },
  {
   "cell_type": "code",
   "execution_count": 1,
   "id": "562ad1e4",
   "metadata": {
    "_cell_guid": "b1076dfc-b9ad-4769-8c92-a6c4dae69d19",
    "_uuid": "8f2839f25d086af736a60e9eeb907d3b93b6e0e5",
    "execution": {
     "iopub.execute_input": "2023-04-24T13:00:46.056419Z",
     "iopub.status.busy": "2023-04-24T13:00:46.055546Z",
     "iopub.status.idle": "2023-04-24T13:00:52.778731Z",
     "shell.execute_reply": "2023-04-24T13:00:52.777518Z"
    },
    "papermill": {
     "duration": 6.732443,
     "end_time": "2023-04-24T13:00:52.781784",
     "exception": false,
     "start_time": "2023-04-24T13:00:46.049341",
     "status": "completed"
    },
    "tags": []
   },
   "outputs": [
    {
     "name": "stdout",
     "output_type": "stream",
     "text": [
      "Tensorflow version 2.11.0\n"
     ]
    }
   ],
   "source": [
    "import math, re, os\n",
    "import numpy as np\n",
    "import tensorflow as tf\n",
    "import warnings \n",
    "warnings.filterwarnings(\"ignore\")\n",
    "\n",
    "print(\"Tensorflow version \" + tf.__version__)"
   ]
  },
  {
   "cell_type": "code",
   "execution_count": 2,
   "id": "263fec54",
   "metadata": {
    "execution": {
     "iopub.execute_input": "2023-04-24T13:00:52.793765Z",
     "iopub.status.busy": "2023-04-24T13:00:52.792520Z",
     "iopub.status.idle": "2023-04-24T13:00:52.807350Z",
     "shell.execute_reply": "2023-04-24T13:00:52.805821Z"
    },
    "papermill": {
     "duration": 0.022917,
     "end_time": "2023-04-24T13:00:52.809508",
     "exception": false,
     "start_time": "2023-04-24T13:00:52.786591",
     "status": "completed"
    },
    "tags": []
   },
   "outputs": [
    {
     "name": "stdout",
     "output_type": "stream",
     "text": [
      "REPLICAS:  1\n"
     ]
    }
   ],
   "source": [
    "try:\n",
    "    tpu = tf.distribute.cluster_resolver.TPUClusterResolver() \n",
    "    print('Running on TPU ', tpu.master())\n",
    "except ValueError:\n",
    "    tpu = None\n",
    "\n",
    "if tpu:\n",
    "    tf.config.experimental_connect_to_cluster(tpu)\n",
    "    tf.tpu.experimental.initialize_tpu_system(tpu)\n",
    "    strategy = tf.distribute.experimental.TPUStrategy(tpu)\n",
    "else:\n",
    "    strategy = tf.distribute.get_strategy() \n",
    "\n",
    "print(\"REPLICAS: \", strategy.num_replicas_in_sync)"
   ]
  },
  {
   "cell_type": "markdown",
   "id": "fcf68e66",
   "metadata": {
    "papermill": {
     "duration": 0.004436,
     "end_time": "2023-04-24T13:00:52.818550",
     "exception": false,
     "start_time": "2023-04-24T13:00:52.814114",
     "status": "completed"
    },
    "tags": []
   },
   "source": [
    "## Loading data"
   ]
  },
  {
   "cell_type": "markdown",
   "id": "5e293951",
   "metadata": {
    "papermill": {
     "duration": 0.004326,
     "end_time": "2023-04-24T13:00:52.827737",
     "exception": false,
     "start_time": "2023-04-24T13:00:52.823411",
     "status": "completed"
    },
    "tags": []
   },
   "source": [
    "Data pipelines and exploration functions based on notebook: https://www.kaggle.com/code/achinih/flower-classification-cnn-models"
   ]
  },
  {
   "cell_type": "code",
   "execution_count": 3,
   "id": "a7063f96",
   "metadata": {
    "execution": {
     "iopub.execute_input": "2023-04-24T13:00:52.838897Z",
     "iopub.status.busy": "2023-04-24T13:00:52.838505Z",
     "iopub.status.idle": "2023-04-24T13:00:52.867988Z",
     "shell.execute_reply": "2023-04-24T13:00:52.866796Z"
    },
    "papermill": {
     "duration": 0.038359,
     "end_time": "2023-04-24T13:00:52.870620",
     "exception": false,
     "start_time": "2023-04-24T13:00:52.832261",
     "status": "completed"
    },
    "tags": []
   },
   "outputs": [],
   "source": [
    "import re\n",
    "import numpy as np\n",
    "import tensorflow as tf\n",
    "\n",
    "from kaggle_datasets import KaggleDatasets\n",
    "\n",
    "class DataLoad(tf.data.TFRecordDataset): # tf.data.TFRecordDataset\n",
    "    \n",
    "    AUTO = tf.data.experimental.AUTOTUNE\n",
    "    \n",
    "    def __init__(self, image_size=512, batch_size=16):\n",
    "        \n",
    "        self.BATCH_SIZE = batch_size\n",
    "        \n",
    "        assert image_size in (192,224,331,512)\n",
    "        self.IMAGE_SIZE = [image_size, image_size]\n",
    "        \n",
    "        self.GCS_PATH = KaggleDatasets().get_gcs_path('tpu-getting-started') + f'/tfrecords-jpeg-{image_size}x{image_size}'\n",
    "        self.TRAINING_FILENAMES = tf.io.gfile.glob(self.GCS_PATH + '/train/*.tfrec')\n",
    "        self.VALIDATION_FILENAMES = tf.io.gfile.glob(self.GCS_PATH + '/val/*.tfrec')\n",
    "        self.TEST_FILENAMES = tf.io.gfile.glob(self.GCS_PATH + '/test/*.tfrec')\n",
    "        \n",
    "        self.NUM_TRAINING_IMAGES = self.count_data_items(self.TRAINING_FILENAMES)\n",
    "        self.NUM_VALIDATION_IMAGES = self.count_data_items(self.VALIDATION_FILENAMES)\n",
    "        self.NUM_TEST_IMAGES = self.count_data_items(self.TEST_FILENAMES)\n",
    "        \n",
    "        self.TRAINING_STEPS_PER_EPOCH = self.NUM_TRAINING_IMAGES // self.BATCH_SIZE\n",
    "        self.TEST_STEPS_PER_EPOCH = self.NUM_TEST_IMAGES // self.BATCH_SIZE\n",
    "        \n",
    "        self.CLASSES = ['pink primrose',        'hard-leaved pocket orchid', 'canterbury bells', 'sweet pea',      'wild geranium',         # 00 - 04\n",
    "                        'tiger lily',           'moon orchid',               'bird of paradise', 'monkshood',      'globe thistle',         # 05 - 09\n",
    "                        'snapdragon',           \"colt's foot\",               'king protea',      'spear thistle',  'yellow iris',           # 10 - 14\n",
    "                        'globe-flower',         'purple coneflower',         'peruvian lily',    'balloon flower', 'giant white arum lily', # 15 - 19\n",
    "                        'fire lily',            'pincushion flower',         'fritillary',       'red ginger',     'grape hyacinth',        # 20 - 24\n",
    "                        'corn poppy',           'prince of wales feathers',  'stemless gentian', 'artichoke',      'sweet william',         # 25 - 29\n",
    "                        'carnation',            'garden phlox',              'love in the mist', 'cosmos',         'alpine sea holly',      # 30 - 34\n",
    "                        'ruby-lipped cattleya', 'cape flower',               'great masterwort', 'siam tulip',     'lenten rose',           # 35 - 39\n",
    "                        'barberton daisy',      'daffodil',                  'sword lily',       'poinsettia',     'bolero deep blue',      # 40 - 44\n",
    "                        'wallflower',           'marigold',                  'buttercup',        'daisy',          'common dandelion',      # 45 - 49\n",
    "                        'petunia',              'wild pansy',                'primula',          'sunflower',      'lilac hibiscus',        # 50 - 54\n",
    "                        'bishop of llandaff',   'gaura',                     'geranium',         'orange dahlia',  'pink-yellow dahlia',    # 55 - 59\n",
    "                        'cautleya spicata',     'japanese anemone',          'black-eyed susan', 'silverbush',     'californian poppy',     # 60 - 64\n",
    "                        'osteospermum',         'spring crocus',             'iris',             'windflower',     'tree poppy',            # 65 - 69\n",
    "                        'gazania',              'azalea',                    'water lily',       'rose',           'thorn apple',           # 70 - 74\n",
    "                        'morning glory',        'passion flower',            'lotus',            'toad lily',      'anthurium',             # 75 - 79\n",
    "                        'frangipani',           'clematis',                  'hibiscus',         'columbine',      'desert-rose',           # 80 - 84\n",
    "                        'tree mallow',          'magnolia',                  'cyclamen ',        'watercress',     'canna lily',            # 85 - 89\n",
    "                        'hippeastrum ',         'bee balm',                  'pink quill',       'foxglove',       'bougainvillea',         # 90 - 94\n",
    "                        'camellia',             'mallow',                    'mexican petunia',  'bromelia',       'blanket flower',        # 95 - 99\n",
    "                        'trumpet creeper',      'blackberry lily',           'common tulip',     'wild rose']                               # 100 - 103\n",
    "    \n",
    "    def count_data_items(self, filenames):\n",
    "        n = [int(re.compile(r\"-([0-9]*)\\.\").search(filename).group(1)) for filename in filenames]\n",
    "        return np.sum(n)\n",
    "\n",
    "    #processing the images into floats from 0,1 and reshaping to the size required for a TPU.\n",
    "    def decode_image(self, image_data):\n",
    "        image = tf.image.decode_jpeg(image_data, channels=3)\n",
    "        image = tf.cast(image, tf.float32) / 255.0\n",
    "        image = tf.reshape(image, [*self.IMAGE_SIZE, 3])\n",
    "        return image\n",
    "    \n",
    "    #reading the labels for my images and returns a dataset with the image and label in a pair.\n",
    "    def read_labeled_tfrecord(self, example):\n",
    "        LABELED_TFREC_FORMAT = {\n",
    "            \"image\": tf.io.FixedLenFeature([], tf.string),\n",
    "            \"class\": tf.io.FixedLenFeature([], tf.int64),\n",
    "        }\n",
    "        example = tf.io.parse_single_example(example, LABELED_TFREC_FORMAT)\n",
    "        image = self.decode_image(example['image'])\n",
    "        label = tf.cast(example['class'], tf.int32)\n",
    "        return image, label\n",
    "    \n",
    "    #reading the unlabeled data to use for testing.\n",
    "    def read_unlabeled_tfrecord(self, example):\n",
    "        UNLABELED_TFREC_FORMAT = {\n",
    "            \"image\": tf.io.FixedLenFeature([], tf.string),\n",
    "            \"id\": tf.io.FixedLenFeature([], tf.string),\n",
    "        }\n",
    "        example = tf.io.parse_single_example(example, UNLABELED_TFREC_FORMAT)\n",
    "        image = self.decode_image(example['image'])\n",
    "        idnum = example['id']\n",
    "        return image, idnum\n",
    "\n",
    "    #Reading multiple files at once to improve performance. \n",
    "    #Ordering data order decreases the speed and as the data will be shuffled later on anyways. \n",
    "    def load_dataset(self, filenames, labeled=True, ordered=False):\n",
    "    \n",
    "        ignore_order = tf.data.Options()\n",
    "        if not ordered:\n",
    "            ignore_order.experimental_deterministic = False # disabling order\n",
    "\n",
    "        dataset = tf.data.TFRecordDataset(filenames, num_parallel_reads=self.AUTO)\n",
    "        dataset = dataset.with_options(ignore_order)\n",
    "        dataset = dataset.map(self.read_labeled_tfrecord if labeled else self.read_unlabeled_tfrecord, num_parallel_calls=self.AUTO)\n",
    "        # returns a dataset of (image, label) pairs if labeled=True or (image, id) pairs if labeled=False\n",
    "        return dataset\n",
    "    \n",
    "    def get_training_dataset(self, data_augment=None, ordered=False):\n",
    "        assert data_augment is not None\n",
    "        \n",
    "        dataset = self.load_dataset(self.TRAINING_FILENAMES, labeled=True, ordered=ordered)\n",
    "        dataset = dataset.repeat(10)\n",
    "        dataset = dataset.map(data_augment, num_parallel_calls=self.AUTO)\n",
    "        dataset = dataset.repeat() # the training dataset must repeat for several epochs\n",
    "        dataset = dataset.shuffle(2048)\n",
    "        dataset = dataset.batch(self.BATCH_SIZE)\n",
    "        dataset = dataset.prefetch(self.AUTO) # get next batch while training\n",
    "        return dataset\n",
    "    \n",
    "    def get_validation_dataset(self, ordered=False):\n",
    "        dataset = self.load_dataset(self.VALIDATION_FILENAMES, labeled=True, ordered=ordered)\n",
    "        dataset = dataset.batch(self.BATCH_SIZE)\n",
    "        dataset = dataset.cache()\n",
    "        dataset = dataset.prefetch(self.AUTO)\n",
    "        return dataset\n",
    "    \n",
    "    def get_test_dataset(self, ordered=False):\n",
    "        dataset = self.load_dataset(self.TEST_FILENAMES, labeled=False, ordered=ordered)\n",
    "#         dataset = dataset.batch(self.BATCH_SIZE)\n",
    "        dataset = dataset.prefetch(self.AUTO)\n",
    "        return dataset"
   ]
  },
  {
   "cell_type": "markdown",
   "id": "7de608d2",
   "metadata": {
    "papermill": {
     "duration": 0.004974,
     "end_time": "2023-04-24T13:00:52.881001",
     "exception": false,
     "start_time": "2023-04-24T13:00:52.876027",
     "status": "completed"
    },
    "tags": []
   },
   "source": [
    "## History visualization"
   ]
  },
  {
   "cell_type": "code",
   "execution_count": 4,
   "id": "fa7bda0f",
   "metadata": {
    "execution": {
     "iopub.execute_input": "2023-04-24T13:00:52.892673Z",
     "iopub.status.busy": "2023-04-24T13:00:52.892276Z",
     "iopub.status.idle": "2023-04-24T13:00:52.899564Z",
     "shell.execute_reply": "2023-04-24T13:00:52.898346Z"
    },
    "papermill": {
     "duration": 0.016112,
     "end_time": "2023-04-24T13:00:52.901994",
     "exception": false,
     "start_time": "2023-04-24T13:00:52.885882",
     "status": "completed"
    },
    "tags": []
   },
   "outputs": [],
   "source": [
    "from matplotlib import pyplot as plt\n",
    "\n",
    "def display_training_curves(training, validation, title, subplot):\n",
    "    if subplot%10==1: \n",
    "        plt.subplots(figsize=(10,10), facecolor='#F0F0F0')\n",
    "        plt.tight_layout()\n",
    "    ax = plt.subplot(subplot)\n",
    "    ax.set_facecolor('#F8F8F8')\n",
    "    ax.plot(training)\n",
    "    ax.plot(validation)\n",
    "    ax.set_title('model '+ title)\n",
    "    ax.set_ylabel(title)\n",
    "    #ax.set_ylim(0.28,1.05)\n",
    "    ax.set_xlabel('epoch')\n",
    "    ax.legend(['train', 'valid.'])"
   ]
  },
  {
   "cell_type": "markdown",
   "id": "a4375275",
   "metadata": {
    "papermill": {
     "duration": 0.004849,
     "end_time": "2023-04-24T13:00:52.912033",
     "exception": false,
     "start_time": "2023-04-24T13:00:52.907184",
     "status": "completed"
    },
    "tags": []
   },
   "source": [
    "# Model to implement\n",
    "\n",
    "The data will load to data_load based on chosen `IMAGE_SIZE` and `BATCH_SIZE`. Then the model has to be compiled within `strategy.scope()`, compiled with chosen `optimizer`, `loss`, and `metrics`."
   ]
  },
  {
   "cell_type": "code",
   "execution_count": 5,
   "id": "0f9859d3",
   "metadata": {
    "execution": {
     "iopub.execute_input": "2023-04-24T13:00:52.923634Z",
     "iopub.status.busy": "2023-04-24T13:00:52.923303Z",
     "iopub.status.idle": "2023-04-24T13:00:52.928884Z",
     "shell.execute_reply": "2023-04-24T13:00:52.927701Z"
    },
    "papermill": {
     "duration": 0.014118,
     "end_time": "2023-04-24T13:00:52.931262",
     "exception": false,
     "start_time": "2023-04-24T13:00:52.917144",
     "status": "completed"
    },
    "tags": []
   },
   "outputs": [],
   "source": [
    "def data_augment(image, label):\n",
    "    #data augmentation to prevent overfitting and to find more patterns.\n",
    "    image = tf.image.random_flip_left_right(image)\n",
    "    image = tf.image.random_flip_up_down(image)\n",
    "    image = tf.image.random_saturation(image, 0, 2)\n",
    "    return image, label"
   ]
  },
  {
   "cell_type": "code",
   "execution_count": 6,
   "id": "5fa299d7",
   "metadata": {
    "execution": {
     "iopub.execute_input": "2023-04-24T13:00:52.943129Z",
     "iopub.status.busy": "2023-04-24T13:00:52.942818Z",
     "iopub.status.idle": "2023-04-24T13:00:59.139620Z",
     "shell.execute_reply": "2023-04-24T13:00:59.138538Z"
    },
    "papermill": {
     "duration": 6.20596,
     "end_time": "2023-04-24T13:00:59.142543",
     "exception": false,
     "start_time": "2023-04-24T13:00:52.936583",
     "status": "completed"
    },
    "tags": []
   },
   "outputs": [],
   "source": [
    "image_size = 192\n",
    "BATCH_SIZE = 16\n",
    "\n",
    "IMAGE_SIZE = [image_size, image_size]\n",
    "\n",
    "data_load = DataLoad(image_size=image_size, batch_size=BATCH_SIZE)\n",
    "\n",
    "ds_train = data_load.get_training_dataset(data_augment=data_augment)\n",
    "ds_valid = data_load.get_validation_dataset()\n",
    "ds_test = data_load.get_test_dataset()"
   ]
  },
  {
   "cell_type": "code",
   "execution_count": 7,
   "id": "4436dd9e",
   "metadata": {
    "execution": {
     "iopub.execute_input": "2023-04-24T13:00:59.155357Z",
     "iopub.status.busy": "2023-04-24T13:00:59.155032Z",
     "iopub.status.idle": "2023-04-24T13:01:06.028063Z",
     "shell.execute_reply": "2023-04-24T13:01:06.027010Z"
    },
    "papermill": {
     "duration": 6.88151,
     "end_time": "2023-04-24T13:01:06.030565",
     "exception": false,
     "start_time": "2023-04-24T13:00:59.149055",
     "status": "completed"
    },
    "tags": []
   },
   "outputs": [
    {
     "name": "stdout",
     "output_type": "stream",
     "text": [
      "Downloading data from https://storage.googleapis.com/tensorflow/keras-applications/resnet/resnet50_weights_tf_dim_ordering_tf_kernels_notop.h5\n",
      "94765736/94765736 [==============================] - 4s 0us/step\n"
     ]
    }
   ],
   "source": [
    "from tensorflow.keras.layers import Dense, Activation, Conv2D, MaxPool2D, Dropout, Flatten\n",
    "gu_seed=tf.keras.initializers.GlorotUniform(seed=1)\n",
    "\n",
    "with strategy.scope():\n",
    "    pretrained_model = tf.keras.applications.resnet50.ResNet50(\n",
    "        weights='imagenet',\n",
    "        include_top=False ,\n",
    "        input_shape=[*IMAGE_SIZE, 3]\n",
    "    )\n",
    "    pretrained_model.trainable = False\n",
    "    \n",
    "    model = tf.keras.Sequential([\n",
    "        pretrained_model,\n",
    "        tf.keras.layers.GlobalAveragePooling2D(),\n",
    "        tf.keras.layers.BatchNormalization(),  \n",
    "        tf.keras.layers.Dropout(0.5),\n",
    "        tf.keras.layers.Dense(1024, activation = \"relu\"),\n",
    "        tf.keras.layers.BatchNormalization(),  \n",
    "        tf.keras.layers.Dropout(0.5),\n",
    "        tf.keras.layers.Dense(2048, activation = \"relu\"),\n",
    "        tf.keras.layers.BatchNormalization(),  \n",
    "        tf.keras.layers.Dropout(0.5),\n",
    "        tf.keras.layers.Dense(2048, activation = \"relu\"),\n",
    "        tf.keras.layers.BatchNormalization(),  \n",
    "        tf.keras.layers.Dropout(0.5),\n",
    "        tf.keras.layers.Dense(1024, activation = \"relu\"),\n",
    "        tf.keras.layers.BatchNormalization(),  \n",
    "        tf.keras.layers.Dropout(0.5),\n",
    "        tf.keras.layers.Dense(len(data_load.CLASSES), activation='softmax')\n",
    "    ])"
   ]
  },
  {
   "cell_type": "code",
   "execution_count": 8,
   "id": "a85e4fe3",
   "metadata": {
    "execution": {
     "iopub.execute_input": "2023-04-24T13:01:06.051441Z",
     "iopub.status.busy": "2023-04-24T13:01:06.049359Z",
     "iopub.status.idle": "2023-04-24T13:01:06.144047Z",
     "shell.execute_reply": "2023-04-24T13:01:06.143162Z"
    },
    "papermill": {
     "duration": 0.119965,
     "end_time": "2023-04-24T13:01:06.159534",
     "exception": false,
     "start_time": "2023-04-24T13:01:06.039569",
     "status": "completed"
    },
    "tags": []
   },
   "outputs": [
    {
     "name": "stdout",
     "output_type": "stream",
     "text": [
      "Model: \"sequential\"\n",
      "_________________________________________________________________\n",
      " Layer (type)                Output Shape              Param #   \n",
      "=================================================================\n",
      " resnet50 (Functional)       (None, 6, 6, 2048)        23587712  \n",
      "                                                                 \n",
      " global_average_pooling2d (G  (None, 2048)             0         \n",
      " lobalAveragePooling2D)                                          \n",
      "                                                                 \n",
      " batch_normalization (BatchN  (None, 2048)             8192      \n",
      " ormalization)                                                   \n",
      "                                                                 \n",
      " dropout (Dropout)           (None, 2048)              0         \n",
      "                                                                 \n",
      " dense (Dense)               (None, 1024)              2098176   \n",
      "                                                                 \n",
      " batch_normalization_1 (Batc  (None, 1024)             4096      \n",
      " hNormalization)                                                 \n",
      "                                                                 \n",
      " dropout_1 (Dropout)         (None, 1024)              0         \n",
      "                                                                 \n",
      " dense_1 (Dense)             (None, 2048)              2099200   \n",
      "                                                                 \n",
      " batch_normalization_2 (Batc  (None, 2048)             8192      \n",
      " hNormalization)                                                 \n",
      "                                                                 \n",
      " dropout_2 (Dropout)         (None, 2048)              0         \n",
      "                                                                 \n",
      " dense_2 (Dense)             (None, 2048)              4196352   \n",
      "                                                                 \n",
      " batch_normalization_3 (Batc  (None, 2048)             8192      \n",
      " hNormalization)                                                 \n",
      "                                                                 \n",
      " dropout_3 (Dropout)         (None, 2048)              0         \n",
      "                                                                 \n",
      " dense_3 (Dense)             (None, 1024)              2098176   \n",
      "                                                                 \n",
      " batch_normalization_4 (Batc  (None, 1024)             4096      \n",
      " hNormalization)                                                 \n",
      "                                                                 \n",
      " dropout_4 (Dropout)         (None, 1024)              0         \n",
      "                                                                 \n",
      " dense_4 (Dense)             (None, 104)               106600    \n",
      "                                                                 \n",
      "=================================================================\n",
      "Total params: 34,218,984\n",
      "Trainable params: 10,614,888\n",
      "Non-trainable params: 23,604,096\n",
      "_________________________________________________________________\n"
     ]
    }
   ],
   "source": [
    "model.compile(\n",
    "    optimizer='adam',\n",
    "    loss = 'sparse_categorical_crossentropy',\n",
    "    metrics=['sparse_categorical_accuracy'],\n",
    ")\n",
    "\n",
    "model.summary()"
   ]
  },
  {
   "cell_type": "markdown",
   "id": "339ebdd3",
   "metadata": {
    "papermill": {
     "duration": 0.010649,
     "end_time": "2023-04-24T13:01:06.181180",
     "exception": false,
     "start_time": "2023-04-24T13:01:06.170531",
     "status": "completed"
    },
    "tags": []
   },
   "source": [
    "Now it is possible to augment the images within `data_augment` function, pick the number of `EPOCHS`, and fit the model."
   ]
  },
  {
   "cell_type": "code",
   "execution_count": 9,
   "id": "106f25e7",
   "metadata": {
    "execution": {
     "iopub.execute_input": "2023-04-24T13:01:06.204719Z",
     "iopub.status.busy": "2023-04-24T13:01:06.203827Z",
     "iopub.status.idle": "2023-04-24T13:01:06.209875Z",
     "shell.execute_reply": "2023-04-24T13:01:06.208889Z"
    },
    "papermill": {
     "duration": 0.020203,
     "end_time": "2023-04-24T13:01:06.212064",
     "exception": false,
     "start_time": "2023-04-24T13:01:06.191861",
     "status": "completed"
    },
    "tags": []
   },
   "outputs": [],
   "source": [
    "def data_augment(self, image, label):\n",
    "    #data augmentation to prevent overfitting and to find more patterns.\n",
    "    image = tf.image.random_flip_left_right(image)\n",
    "    image = tf.image.random_flip_up_down(image)\n",
    "    image = tf.image.random_saturation(image, 0, 2)\n",
    "    return image, label"
   ]
  },
  {
   "cell_type": "code",
   "execution_count": 10,
   "id": "4365cb96",
   "metadata": {
    "execution": {
     "iopub.execute_input": "2023-04-24T13:01:06.235543Z",
     "iopub.status.busy": "2023-04-24T13:01:06.235187Z",
     "iopub.status.idle": "2023-04-24T13:07:36.590932Z",
     "shell.execute_reply": "2023-04-24T13:07:36.589735Z"
    },
    "papermill": {
     "duration": 390.561659,
     "end_time": "2023-04-24T13:07:36.784562",
     "exception": false,
     "start_time": "2023-04-24T13:01:06.222903",
     "status": "completed"
    },
    "tags": []
   },
   "outputs": [
    {
     "name": "stdout",
     "output_type": "stream",
     "text": [
      "Epoch 1/10\n",
      "797/797 [==============================] - 68s 63ms/step - loss: 5.2163 - sparse_categorical_accuracy: 0.0501 - val_loss: 4.2057 - val_sparse_categorical_accuracy: 0.0862\n",
      "Epoch 2/10\n",
      "797/797 [==============================] - 38s 47ms/step - loss: 4.6127 - sparse_categorical_accuracy: 0.0796 - val_loss: 3.9676 - val_sparse_categorical_accuracy: 0.1350\n",
      "Epoch 3/10\n",
      "797/797 [==============================] - 37s 47ms/step - loss: 4.3965 - sparse_categorical_accuracy: 0.0884 - val_loss: 3.8767 - val_sparse_categorical_accuracy: 0.1255\n",
      "Epoch 4/10\n",
      "797/797 [==============================] - 36s 46ms/step - loss: 4.1776 - sparse_categorical_accuracy: 0.0990 - val_loss: 3.8065 - val_sparse_categorical_accuracy: 0.1417\n",
      "Epoch 5/10\n",
      "797/797 [==============================] - 35s 44ms/step - loss: 4.0643 - sparse_categorical_accuracy: 0.1080 - val_loss: 3.6569 - val_sparse_categorical_accuracy: 0.1422\n",
      "Epoch 6/10\n",
      "797/797 [==============================] - 35s 44ms/step - loss: 3.9517 - sparse_categorical_accuracy: 0.1126 - val_loss: 3.6025 - val_sparse_categorical_accuracy: 0.1487\n",
      "Epoch 7/10\n",
      "797/797 [==============================] - 35s 44ms/step - loss: 3.8427 - sparse_categorical_accuracy: 0.1198 - val_loss: 3.4461 - val_sparse_categorical_accuracy: 0.1695\n",
      "Epoch 8/10\n",
      "797/797 [==============================] - 35s 44ms/step - loss: 3.7958 - sparse_categorical_accuracy: 0.1285 - val_loss: 3.4536 - val_sparse_categorical_accuracy: 0.1711\n",
      "Epoch 9/10\n",
      "797/797 [==============================] - 35s 44ms/step - loss: 3.7150 - sparse_categorical_accuracy: 0.1332 - val_loss: 3.4304 - val_sparse_categorical_accuracy: 0.1837\n",
      "Epoch 10/10\n",
      "797/797 [==============================] - 36s 45ms/step - loss: 3.6695 - sparse_categorical_accuracy: 0.1383 - val_loss: 3.3233 - val_sparse_categorical_accuracy: 0.1872\n"
     ]
    }
   ],
   "source": [
    "# Define training epochs\n",
    "EPOCHS = 10\n",
    "\n",
    "history = model.fit(\n",
    "    ds_train,\n",
    "    validation_data = ds_valid,\n",
    "    epochs = EPOCHS,\n",
    "    steps_per_epoch = data_load.TRAINING_STEPS_PER_EPOCH\n",
    ")"
   ]
  },
  {
   "cell_type": "code",
   "execution_count": 11,
   "id": "fe29e994",
   "metadata": {
    "execution": {
     "iopub.execute_input": "2023-04-24T13:07:37.251683Z",
     "iopub.status.busy": "2023-04-24T13:07:37.250593Z",
     "iopub.status.idle": "2023-04-24T13:07:37.806741Z",
     "shell.execute_reply": "2023-04-24T13:07:37.805621Z"
    },
    "papermill": {
     "duration": 0.794239,
     "end_time": "2023-04-24T13:07:37.809788",
     "exception": false,
     "start_time": "2023-04-24T13:07:37.015549",
     "status": "completed"
    },
    "tags": []
   },
   "outputs": [
    {
     "data": {
      "image/png": "[encoded data removed]",
      "text/plain": [
       "<Figure size 1000x1000 with 2 Axes>"
      ]
     },
     "metadata": {},
     "output_type": "display_data"
    }
   ],
   "source": [
    "display_training_curves(\n",
    "    history.history['loss'],\n",
    "    history.history['val_loss'],\n",
    "    'loss',\n",
    "    211,\n",
    ")\n",
    "display_training_curves(\n",
    "    history.history['sparse_categorical_accuracy'],\n",
    "    history.history['val_sparse_categorical_accuracy'],\n",
    "    'accuracy',\n",
    "    212,\n",
    ")"
   ]
  },
  {
   "cell_type": "markdown",
   "id": "33d35288",
   "metadata": {
    "papermill": {
     "duration": 0.23413,
     "end_time": "2023-04-24T13:07:38.275438",
     "exception": false,
     "start_time": "2023-04-24T13:07:38.041308",
     "status": "completed"
    },
    "tags": []
   },
   "source": [
    "# Predictions to submit"
   ]
  },
  {
   "cell_type": "code",
   "execution_count": 12,
   "id": "27a9caf1",
   "metadata": {
    "execution": {
     "iopub.execute_input": "2023-04-24T13:07:38.739078Z",
     "iopub.status.busy": "2023-04-24T13:07:38.738342Z",
     "iopub.status.idle": "2023-04-24T13:07:59.947201Z",
     "shell.execute_reply": "2023-04-24T13:07:59.946144Z"
    },
    "papermill": {
     "duration": 21.442932,
     "end_time": "2023-04-24T13:07:59.949529",
     "exception": false,
     "start_time": "2023-04-24T13:07:38.506597",
     "status": "completed"
    },
    "tags": []
   },
   "outputs": [
    {
     "name": "stdout",
     "output_type": "stream",
     "text": [
      "Computing predictions...\n",
      "462/462 [==============================] - 21s 37ms/step\n",
      "[88 67 59 ... 14 49 49]\n"
     ]
    }
   ],
   "source": [
    "print('Computing predictions...')\n",
    "test_images_ds = ds_test.map(lambda image, idnum: image).batch(BATCH_SIZE)\n",
    "probabilities = model.predict(test_images_ds, steps=data_load.TEST_STEPS_PER_EPOCH+1)\n",
    "predictions = np.argmax(probabilities, axis=-1)\n",
    "print(predictions)"
   ]
  },
  {
   "cell_type": "code",
   "execution_count": 13,
   "id": "39cbbbb7",
   "metadata": {
    "execution": {
     "iopub.execute_input": "2023-04-24T13:08:00.486299Z",
     "iopub.status.busy": "2023-04-24T13:08:00.485932Z",
     "iopub.status.idle": "2023-04-24T13:08:16.778601Z",
     "shell.execute_reply": "2023-04-24T13:08:16.777555Z"
    },
    "papermill": {
     "duration": 16.538588,
     "end_time": "2023-04-24T13:08:16.781224",
     "exception": false,
     "start_time": "2023-04-24T13:08:00.242636",
     "status": "completed"
    },
    "tags": []
   },
   "outputs": [
    {
     "name": "stdout",
     "output_type": "stream",
     "text": [
      "Generating submission.csv file...\n"
     ]
    }
   ],
   "source": [
    "print('Generating submission.csv file...')\n",
    "test_ids_ds = ds_test.map(lambda image, idnum: idnum)\n",
    "test_ids = next(iter(test_ids_ds.batch(data_load.NUM_TEST_IMAGES))).numpy().astype('U') # all in one batch\n",
    "np.savetxt('submission.csv', np.rec.fromarrays([test_ids, predictions]), fmt=['%s', '%d'], delimiter=',', header='id,label', comments='')"
   ]
  },
  {
   "cell_type": "code",
   "execution_count": 14,
   "id": "9d645803",
   "metadata": {
    "execution": {
     "iopub.execute_input": "2023-04-24T13:08:17.278837Z",
     "iopub.status.busy": "2023-04-24T13:08:17.278432Z",
     "iopub.status.idle": "2023-04-24T13:08:17.885001Z",
     "shell.execute_reply": "2023-04-24T13:08:17.883947Z"
    },
    "papermill": {
     "duration": 0.858591,
     "end_time": "2023-04-24T13:08:17.887528",
     "exception": false,
     "start_time": "2023-04-24T13:08:17.028937",
     "status": "completed"
    },
    "tags": []
   },
   "outputs": [],
   "source": [
    "np.save('history.npy',history.history)\n",
    "model.save('model.h5')"
   ]
  },
  {
   "cell_type": "code",
   "execution_count": null,
   "id": "5aaa7faa",
   "metadata": {
    "papermill": {
     "duration": 0.291267,
     "end_time": "2023-04-24T13:08:18.528951",
     "exception": false,
     "start_time": "2023-04-24T13:08:18.237684",
     "status": "completed"
    },
    "tags": []
   },
   "outputs": [],
   "source": []
  }
 ],
 "metadata": {
  "kernelspec": {
   "display_name": "Python 3",
   "language": "python",
   "name": "python3"
  },
  "language_info": {
   "codemirror_mode": {
    "name": "ipython",
    "version": 3
   },
   "file_extension": ".py",
   "mimetype": "text/x-python",
   "name": "python",
   "nbconvert_exporter": "python",
   "pygments_lexer": "ipython3",
   "version": "3.7.12"
  },
  "papermill": {
   "default_parameters": {},
   "duration": 465.183642,
   "end_time": "2023-04-24T13:08:22.213583",
   "environment_variables": {},
   "exception": null,
   "input_path": "__notebook__.ipynb",
   "output_path": "__notebook__.ipynb",
   "parameters": {},
   "start_time": "2023-04-24T13:00:37.029941",
   "version": "2.4.0"
  }
 },
 "nbformat": 4,
 "nbformat_minor": 5
}
