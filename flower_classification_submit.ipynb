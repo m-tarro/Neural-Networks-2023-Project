{
 "cells": [
  {
   "cell_type": "markdown",
   "id": "494ae549",
   "metadata": {
    "papermill": {
     "duration": 0.001594,
     "end_time": "2023-05-29T09:28:05.556432",
     "exception": false,
     "start_time": "2023-05-29T09:28:05.554838",
     "status": "completed"
    },
    "tags": []
   },
   "source": [
    "This notebook is created to make a fast and efficient submit to the \"Petal to the Metal\" competition and only includes the final fine-tuned model of our project."
   ]
  },
  {
   "cell_type": "code",
   "execution_count": null,
   "id": "dddb4cb9",
   "metadata": {
    "papermill": {
     "duration": 0.00095,
     "end_time": "2023-05-29T09:28:05.558700",
     "exception": false,
     "start_time": "2023-05-29T09:28:05.557750",
     "status": "completed"
    },
    "tags": []
   },
   "outputs": [],
   "source": []
  }
 ],
 "metadata": {
  "kernelspec": {
   "display_name": "Python 3",
   "language": "python",
   "name": "python3"
  },
  "language_info": {
   "codemirror_mode": {
    "name": "ipython",
    "version": 3
   },
   "file_extension": ".py",
   "mimetype": "text/x-python",
   "name": "python",
   "nbconvert_exporter": "python",
   "pygments_lexer": "ipython3",
   "version": "3.10.10"
  },
  "papermill": {
   "default_parameters": {},
   "duration": 9.006367,
   "end_time": "2023-05-29T09:28:06.279480",
   "environment_variables": {},
   "exception": null,
   "input_path": "__notebook__.ipynb",
   "output_path": "__notebook__.ipynb",
   "parameters": {},
   "start_time": "2023-05-29T09:27:57.273113",
   "version": "2.4.0"
  }
 },
 "nbformat": 4,
 "nbformat_minor": 5
}
